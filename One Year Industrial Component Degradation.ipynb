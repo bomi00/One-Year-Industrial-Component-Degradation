{
 "cells": [
  {
   "cell_type": "code",
   "execution_count": 73,
   "metadata": {},
   "outputs": [],
   "source": [
    "import numpy as np\n",
    "import pandas as pd\n",
    "import matplotlib.pyplot as plt\n",
    "\n",
    "import sklearn"
   ]
  },
  {
   "cell_type": "code",
   "execution_count": 32,
   "metadata": {},
   "outputs": [],
   "source": [
    "%matplotlib inline"
   ]
  },
  {
   "cell_type": "code",
   "execution_count": 33,
   "metadata": {
    "scrolled": true
   },
   "outputs": [
    {
     "data": {
      "text/html": [
       "<div>\n",
       "<style scoped>\n",
       "    .dataframe tbody tr th:only-of-type {\n",
       "        vertical-align: middle;\n",
       "    }\n",
       "\n",
       "    .dataframe tbody tr th {\n",
       "        vertical-align: top;\n",
       "    }\n",
       "\n",
       "    .dataframe thead th {\n",
       "        text-align: right;\n",
       "    }\n",
       "</style>\n",
       "<table border=\"1\" class=\"dataframe\">\n",
       "  <thead>\n",
       "    <tr style=\"text-align: right;\">\n",
       "      <th></th>\n",
       "      <th>timestamp</th>\n",
       "      <th>pCut::Motor_Torque</th>\n",
       "      <th>pCut::CTRL_Position_controller::Lag_error</th>\n",
       "      <th>pCut::CTRL_Position_controller::Actual_position</th>\n",
       "      <th>pCut::CTRL_Position_controller::Actual_speed</th>\n",
       "      <th>pSvolFilm::CTRL_Position_controller::Actual_position</th>\n",
       "      <th>pSvolFilm::CTRL_Position_controller::Actual_speed</th>\n",
       "      <th>pSvolFilm::CTRL_Position_controller::Lag_error</th>\n",
       "      <th>pSpintor::VAX_speed</th>\n",
       "    </tr>\n",
       "  </thead>\n",
       "  <tbody>\n",
       "    <tr>\n",
       "      <th>0</th>\n",
       "      <td>0.008000</td>\n",
       "      <td>0.199603</td>\n",
       "      <td>0.027420</td>\n",
       "      <td>628392628</td>\n",
       "      <td>-920.104980</td>\n",
       "      <td>5298555</td>\n",
       "      <td>2441.235352</td>\n",
       "      <td>0.899543</td>\n",
       "      <td>1379.999756</td>\n",
       "    </tr>\n",
       "    <tr>\n",
       "      <th>1</th>\n",
       "      <td>0.012000</td>\n",
       "      <td>0.281624</td>\n",
       "      <td>0.002502</td>\n",
       "      <td>628392625</td>\n",
       "      <td>-937.271118</td>\n",
       "      <td>5298565</td>\n",
       "      <td>2453.819092</td>\n",
       "      <td>0.874072</td>\n",
       "      <td>1379.999756</td>\n",
       "    </tr>\n",
       "    <tr>\n",
       "      <th>2</th>\n",
       "      <td>0.016000</td>\n",
       "      <td>0.349315</td>\n",
       "      <td>-0.018085</td>\n",
       "      <td>628392621</td>\n",
       "      <td>-951.004028</td>\n",
       "      <td>5298575</td>\n",
       "      <td>2476.469727</td>\n",
       "      <td>0.879806</td>\n",
       "      <td>1379.999756</td>\n",
       "    </tr>\n",
       "    <tr>\n",
       "      <th>3</th>\n",
       "      <td>0.020000</td>\n",
       "      <td>0.444450</td>\n",
       "      <td>-0.054680</td>\n",
       "      <td>628392617</td>\n",
       "      <td>-1019.668579</td>\n",
       "      <td>5298585</td>\n",
       "      <td>2501.637207</td>\n",
       "      <td>0.837500</td>\n",
       "      <td>1379.999756</td>\n",
       "    </tr>\n",
       "    <tr>\n",
       "      <th>4</th>\n",
       "      <td>0.024000</td>\n",
       "      <td>0.480923</td>\n",
       "      <td>-0.042770</td>\n",
       "      <td>628392613</td>\n",
       "      <td>-1023.101807</td>\n",
       "      <td>5298595</td>\n",
       "      <td>2519.254395</td>\n",
       "      <td>0.905347</td>\n",
       "      <td>1379.999756</td>\n",
       "    </tr>\n",
       "    <tr>\n",
       "      <th>...</th>\n",
       "      <td>...</td>\n",
       "      <td>...</td>\n",
       "      <td>...</td>\n",
       "      <td>...</td>\n",
       "      <td>...</td>\n",
       "      <td>...</td>\n",
       "      <td>...</td>\n",
       "      <td>...</td>\n",
       "      <td>...</td>\n",
       "    </tr>\n",
       "    <tr>\n",
       "      <th>2043</th>\n",
       "      <td>8.179999</td>\n",
       "      <td>0.371901</td>\n",
       "      <td>-0.012508</td>\n",
       "      <td>628403263</td>\n",
       "      <td>-1768.112183</td>\n",
       "      <td>5325580</td>\n",
       "      <td>2748.277588</td>\n",
       "      <td>1.031282</td>\n",
       "      <td>1199.999634</td>\n",
       "    </tr>\n",
       "    <tr>\n",
       "      <th>2044</th>\n",
       "      <td>8.183999</td>\n",
       "      <td>0.437352</td>\n",
       "      <td>-0.029764</td>\n",
       "      <td>628403256</td>\n",
       "      <td>-1802.444458</td>\n",
       "      <td>5325591</td>\n",
       "      <td>2763.377930</td>\n",
       "      <td>1.033880</td>\n",
       "      <td>1199.999634</td>\n",
       "    </tr>\n",
       "    <tr>\n",
       "      <th>2045</th>\n",
       "      <td>8.187999</td>\n",
       "      <td>0.474551</td>\n",
       "      <td>-0.020807</td>\n",
       "      <td>628403249</td>\n",
       "      <td>-1781.845093</td>\n",
       "      <td>5325602</td>\n",
       "      <td>2803.645752</td>\n",
       "      <td>0.962427</td>\n",
       "      <td>1199.999634</td>\n",
       "    </tr>\n",
       "    <tr>\n",
       "      <th>2046</th>\n",
       "      <td>8.191999</td>\n",
       "      <td>0.571133</td>\n",
       "      <td>-0.048983</td>\n",
       "      <td>628403242</td>\n",
       "      <td>-1860.809326</td>\n",
       "      <td>5325613</td>\n",
       "      <td>2823.779541</td>\n",
       "      <td>0.949072</td>\n",
       "      <td>1199.999634</td>\n",
       "    </tr>\n",
       "    <tr>\n",
       "      <th>2047</th>\n",
       "      <td>8.195999</td>\n",
       "      <td>0.525760</td>\n",
       "      <td>-0.031645</td>\n",
       "      <td>628403234</td>\n",
       "      <td>-1919.174194</td>\n",
       "      <td>5325625</td>\n",
       "      <td>2836.363281</td>\n",
       "      <td>0.971167</td>\n",
       "      <td>1199.999634</td>\n",
       "    </tr>\n",
       "  </tbody>\n",
       "</table>\n",
       "<p>2048 rows × 9 columns</p>\n",
       "</div>"
      ],
      "text/plain": [
       "      timestamp  pCut::Motor_Torque  \\\n",
       "0      0.008000            0.199603   \n",
       "1      0.012000            0.281624   \n",
       "2      0.016000            0.349315   \n",
       "3      0.020000            0.444450   \n",
       "4      0.024000            0.480923   \n",
       "...         ...                 ...   \n",
       "2043   8.179999            0.371901   \n",
       "2044   8.183999            0.437352   \n",
       "2045   8.187999            0.474551   \n",
       "2046   8.191999            0.571133   \n",
       "2047   8.195999            0.525760   \n",
       "\n",
       "      pCut::CTRL_Position_controller::Lag_error  \\\n",
       "0                                      0.027420   \n",
       "1                                      0.002502   \n",
       "2                                     -0.018085   \n",
       "3                                     -0.054680   \n",
       "4                                     -0.042770   \n",
       "...                                         ...   \n",
       "2043                                  -0.012508   \n",
       "2044                                  -0.029764   \n",
       "2045                                  -0.020807   \n",
       "2046                                  -0.048983   \n",
       "2047                                  -0.031645   \n",
       "\n",
       "      pCut::CTRL_Position_controller::Actual_position  \\\n",
       "0                                           628392628   \n",
       "1                                           628392625   \n",
       "2                                           628392621   \n",
       "3                                           628392617   \n",
       "4                                           628392613   \n",
       "...                                               ...   \n",
       "2043                                        628403263   \n",
       "2044                                        628403256   \n",
       "2045                                        628403249   \n",
       "2046                                        628403242   \n",
       "2047                                        628403234   \n",
       "\n",
       "      pCut::CTRL_Position_controller::Actual_speed  \\\n",
       "0                                      -920.104980   \n",
       "1                                      -937.271118   \n",
       "2                                      -951.004028   \n",
       "3                                     -1019.668579   \n",
       "4                                     -1023.101807   \n",
       "...                                            ...   \n",
       "2043                                  -1768.112183   \n",
       "2044                                  -1802.444458   \n",
       "2045                                  -1781.845093   \n",
       "2046                                  -1860.809326   \n",
       "2047                                  -1919.174194   \n",
       "\n",
       "      pSvolFilm::CTRL_Position_controller::Actual_position  \\\n",
       "0                                               5298555      \n",
       "1                                               5298565      \n",
       "2                                               5298575      \n",
       "3                                               5298585      \n",
       "4                                               5298595      \n",
       "...                                                 ...      \n",
       "2043                                            5325580      \n",
       "2044                                            5325591      \n",
       "2045                                            5325602      \n",
       "2046                                            5325613      \n",
       "2047                                            5325625      \n",
       "\n",
       "      pSvolFilm::CTRL_Position_controller::Actual_speed  \\\n",
       "0                                           2441.235352   \n",
       "1                                           2453.819092   \n",
       "2                                           2476.469727   \n",
       "3                                           2501.637207   \n",
       "4                                           2519.254395   \n",
       "...                                                 ...   \n",
       "2043                                        2748.277588   \n",
       "2044                                        2763.377930   \n",
       "2045                                        2803.645752   \n",
       "2046                                        2823.779541   \n",
       "2047                                        2836.363281   \n",
       "\n",
       "      pSvolFilm::CTRL_Position_controller::Lag_error  pSpintor::VAX_speed  \n",
       "0                                           0.899543          1379.999756  \n",
       "1                                           0.874072          1379.999756  \n",
       "2                                           0.879806          1379.999756  \n",
       "3                                           0.837500          1379.999756  \n",
       "4                                           0.905347          1379.999756  \n",
       "...                                              ...                  ...  \n",
       "2043                                        1.031282          1199.999634  \n",
       "2044                                        1.033880          1199.999634  \n",
       "2045                                        0.962427          1199.999634  \n",
       "2046                                        0.949072          1199.999634  \n",
       "2047                                        0.971167          1199.999634  \n",
       "\n",
       "[2048 rows x 9 columns]"
      ]
     },
     "execution_count": 33,
     "metadata": {},
     "output_type": "execute_result"
    }
   ],
   "source": [
    "df = pd.read_csv('C:\\\\Users\\\\builduser\\\\Desktop\\\\model 1.csv')\n",
    "df"
   ]
  },
  {
   "cell_type": "code",
   "execution_count": 35,
   "metadata": {},
   "outputs": [
    {
     "data": {
      "text/html": [
       "<div>\n",
       "<style scoped>\n",
       "    .dataframe tbody tr th:only-of-type {\n",
       "        vertical-align: middle;\n",
       "    }\n",
       "\n",
       "    .dataframe tbody tr th {\n",
       "        vertical-align: top;\n",
       "    }\n",
       "\n",
       "    .dataframe thead th {\n",
       "        text-align: right;\n",
       "    }\n",
       "</style>\n",
       "<table border=\"1\" class=\"dataframe\">\n",
       "  <thead>\n",
       "    <tr style=\"text-align: right;\">\n",
       "      <th></th>\n",
       "      <th>pCut::Motor_Torque</th>\n",
       "      <th>pCut::CTRL_Position_controller::Lag_error</th>\n",
       "      <th>pCut::CTRL_Position_controller::Actual_position</th>\n",
       "      <th>pCut::CTRL_Position_controller::Actual_speed</th>\n",
       "      <th>pSvolFilm::CTRL_Position_controller::Actual_position</th>\n",
       "      <th>pSvolFilm::CTRL_Position_controller::Actual_speed</th>\n",
       "      <th>pSvolFilm::CTRL_Position_controller::Lag_error</th>\n",
       "      <th>pSpintor::VAX_speed</th>\n",
       "    </tr>\n",
       "    <tr>\n",
       "      <th>timestamp</th>\n",
       "      <th></th>\n",
       "      <th></th>\n",
       "      <th></th>\n",
       "      <th></th>\n",
       "      <th></th>\n",
       "      <th></th>\n",
       "      <th></th>\n",
       "      <th></th>\n",
       "    </tr>\n",
       "  </thead>\n",
       "  <tbody>\n",
       "    <tr>\n",
       "      <th>0.008000</th>\n",
       "      <td>0.199603</td>\n",
       "      <td>0.027420</td>\n",
       "      <td>628392628</td>\n",
       "      <td>-920.104980</td>\n",
       "      <td>5298555</td>\n",
       "      <td>2441.235352</td>\n",
       "      <td>0.899543</td>\n",
       "      <td>1379.999756</td>\n",
       "    </tr>\n",
       "    <tr>\n",
       "      <th>0.012000</th>\n",
       "      <td>0.281624</td>\n",
       "      <td>0.002502</td>\n",
       "      <td>628392625</td>\n",
       "      <td>-937.271118</td>\n",
       "      <td>5298565</td>\n",
       "      <td>2453.819092</td>\n",
       "      <td>0.874072</td>\n",
       "      <td>1379.999756</td>\n",
       "    </tr>\n",
       "    <tr>\n",
       "      <th>0.016000</th>\n",
       "      <td>0.349315</td>\n",
       "      <td>-0.018085</td>\n",
       "      <td>628392621</td>\n",
       "      <td>-951.004028</td>\n",
       "      <td>5298575</td>\n",
       "      <td>2476.469727</td>\n",
       "      <td>0.879806</td>\n",
       "      <td>1379.999756</td>\n",
       "    </tr>\n",
       "    <tr>\n",
       "      <th>0.020000</th>\n",
       "      <td>0.444450</td>\n",
       "      <td>-0.054680</td>\n",
       "      <td>628392617</td>\n",
       "      <td>-1019.668579</td>\n",
       "      <td>5298585</td>\n",
       "      <td>2501.637207</td>\n",
       "      <td>0.837500</td>\n",
       "      <td>1379.999756</td>\n",
       "    </tr>\n",
       "    <tr>\n",
       "      <th>0.024000</th>\n",
       "      <td>0.480923</td>\n",
       "      <td>-0.042770</td>\n",
       "      <td>628392613</td>\n",
       "      <td>-1023.101807</td>\n",
       "      <td>5298595</td>\n",
       "      <td>2519.254395</td>\n",
       "      <td>0.905347</td>\n",
       "      <td>1379.999756</td>\n",
       "    </tr>\n",
       "    <tr>\n",
       "      <th>...</th>\n",
       "      <td>...</td>\n",
       "      <td>...</td>\n",
       "      <td>...</td>\n",
       "      <td>...</td>\n",
       "      <td>...</td>\n",
       "      <td>...</td>\n",
       "      <td>...</td>\n",
       "      <td>...</td>\n",
       "    </tr>\n",
       "    <tr>\n",
       "      <th>8.179999</th>\n",
       "      <td>0.371901</td>\n",
       "      <td>-0.012508</td>\n",
       "      <td>628403263</td>\n",
       "      <td>-1768.112183</td>\n",
       "      <td>5325580</td>\n",
       "      <td>2748.277588</td>\n",
       "      <td>1.031282</td>\n",
       "      <td>1199.999634</td>\n",
       "    </tr>\n",
       "    <tr>\n",
       "      <th>8.183999</th>\n",
       "      <td>0.437352</td>\n",
       "      <td>-0.029764</td>\n",
       "      <td>628403256</td>\n",
       "      <td>-1802.444458</td>\n",
       "      <td>5325591</td>\n",
       "      <td>2763.377930</td>\n",
       "      <td>1.033880</td>\n",
       "      <td>1199.999634</td>\n",
       "    </tr>\n",
       "    <tr>\n",
       "      <th>8.187999</th>\n",
       "      <td>0.474551</td>\n",
       "      <td>-0.020807</td>\n",
       "      <td>628403249</td>\n",
       "      <td>-1781.845093</td>\n",
       "      <td>5325602</td>\n",
       "      <td>2803.645752</td>\n",
       "      <td>0.962427</td>\n",
       "      <td>1199.999634</td>\n",
       "    </tr>\n",
       "    <tr>\n",
       "      <th>8.191999</th>\n",
       "      <td>0.571133</td>\n",
       "      <td>-0.048983</td>\n",
       "      <td>628403242</td>\n",
       "      <td>-1860.809326</td>\n",
       "      <td>5325613</td>\n",
       "      <td>2823.779541</td>\n",
       "      <td>0.949072</td>\n",
       "      <td>1199.999634</td>\n",
       "    </tr>\n",
       "    <tr>\n",
       "      <th>8.195999</th>\n",
       "      <td>0.525760</td>\n",
       "      <td>-0.031645</td>\n",
       "      <td>628403234</td>\n",
       "      <td>-1919.174194</td>\n",
       "      <td>5325625</td>\n",
       "      <td>2836.363281</td>\n",
       "      <td>0.971167</td>\n",
       "      <td>1199.999634</td>\n",
       "    </tr>\n",
       "  </tbody>\n",
       "</table>\n",
       "<p>2048 rows × 8 columns</p>\n",
       "</div>"
      ],
      "text/plain": [
       "           pCut::Motor_Torque  pCut::CTRL_Position_controller::Lag_error  \\\n",
       "timestamp                                                                  \n",
       "0.008000             0.199603                                   0.027420   \n",
       "0.012000             0.281624                                   0.002502   \n",
       "0.016000             0.349315                                  -0.018085   \n",
       "0.020000             0.444450                                  -0.054680   \n",
       "0.024000             0.480923                                  -0.042770   \n",
       "...                       ...                                        ...   \n",
       "8.179999             0.371901                                  -0.012508   \n",
       "8.183999             0.437352                                  -0.029764   \n",
       "8.187999             0.474551                                  -0.020807   \n",
       "8.191999             0.571133                                  -0.048983   \n",
       "8.195999             0.525760                                  -0.031645   \n",
       "\n",
       "           pCut::CTRL_Position_controller::Actual_position  \\\n",
       "timestamp                                                    \n",
       "0.008000                                         628392628   \n",
       "0.012000                                         628392625   \n",
       "0.016000                                         628392621   \n",
       "0.020000                                         628392617   \n",
       "0.024000                                         628392613   \n",
       "...                                                    ...   \n",
       "8.179999                                         628403263   \n",
       "8.183999                                         628403256   \n",
       "8.187999                                         628403249   \n",
       "8.191999                                         628403242   \n",
       "8.195999                                         628403234   \n",
       "\n",
       "           pCut::CTRL_Position_controller::Actual_speed  \\\n",
       "timestamp                                                 \n",
       "0.008000                                    -920.104980   \n",
       "0.012000                                    -937.271118   \n",
       "0.016000                                    -951.004028   \n",
       "0.020000                                   -1019.668579   \n",
       "0.024000                                   -1023.101807   \n",
       "...                                                 ...   \n",
       "8.179999                                   -1768.112183   \n",
       "8.183999                                   -1802.444458   \n",
       "8.187999                                   -1781.845093   \n",
       "8.191999                                   -1860.809326   \n",
       "8.195999                                   -1919.174194   \n",
       "\n",
       "           pSvolFilm::CTRL_Position_controller::Actual_position  \\\n",
       "timestamp                                                         \n",
       "0.008000                                             5298555      \n",
       "0.012000                                             5298565      \n",
       "0.016000                                             5298575      \n",
       "0.020000                                             5298585      \n",
       "0.024000                                             5298595      \n",
       "...                                                      ...      \n",
       "8.179999                                             5325580      \n",
       "8.183999                                             5325591      \n",
       "8.187999                                             5325602      \n",
       "8.191999                                             5325613      \n",
       "8.195999                                             5325625      \n",
       "\n",
       "           pSvolFilm::CTRL_Position_controller::Actual_speed  \\\n",
       "timestamp                                                      \n",
       "0.008000                                         2441.235352   \n",
       "0.012000                                         2453.819092   \n",
       "0.016000                                         2476.469727   \n",
       "0.020000                                         2501.637207   \n",
       "0.024000                                         2519.254395   \n",
       "...                                                      ...   \n",
       "8.179999                                         2748.277588   \n",
       "8.183999                                         2763.377930   \n",
       "8.187999                                         2803.645752   \n",
       "8.191999                                         2823.779541   \n",
       "8.195999                                         2836.363281   \n",
       "\n",
       "           pSvolFilm::CTRL_Position_controller::Lag_error  pSpintor::VAX_speed  \n",
       "timestamp                                                                       \n",
       "0.008000                                         0.899543          1379.999756  \n",
       "0.012000                                         0.874072          1379.999756  \n",
       "0.016000                                         0.879806          1379.999756  \n",
       "0.020000                                         0.837500          1379.999756  \n",
       "0.024000                                         0.905347          1379.999756  \n",
       "...                                                   ...                  ...  \n",
       "8.179999                                         1.031282          1199.999634  \n",
       "8.183999                                         1.033880          1199.999634  \n",
       "8.187999                                         0.962427          1199.999634  \n",
       "8.191999                                         0.949072          1199.999634  \n",
       "8.195999                                         0.971167          1199.999634  \n",
       "\n",
       "[2048 rows x 8 columns]"
      ]
     },
     "execution_count": 35,
     "metadata": {},
     "output_type": "execute_result"
    }
   ],
   "source": [
    "a = df.groupby(['timestamp']).sum()"
   ]
  },
  {
   "cell_type": "code",
   "execution_count": 99,
   "metadata": {},
   "outputs": [],
   "source": [
    "b = np.array(df['pCut::Motor_Torque'])"
   ]
  },
  {
   "cell_type": "code",
   "execution_count": null,
   "metadata": {},
   "outputs": [],
   "source": []
  },
  {
   "cell_type": "code",
   "execution_count": 100,
   "metadata": {},
   "outputs": [
    {
     "data": {
      "image/png": "[encoded data removed]",
      "text/plain": [
       "<Figure size 360x360 with 1 Axes>"
      ]
     },
     "metadata": {
      "needs_background": "light"
     },
     "output_type": "display_data"
    }
   ],
   "source": [
    "plt.figure(figsize=(5, 5))\n",
    "plt.plot(a, b)\n",
    "plt.title('One Year Industrial Compnent Degradation')\n",
    "plt.grid(True)\n",
    "plt.show()"
   ]
  },
  {
   "cell_type": "code",
   "execution_count": 101,
   "metadata": {},
   "outputs": [],
   "source": [
    "from sklearn.linear_model import LinearRegression \n"
   ]
  },
  {
   "cell_type": "code",
   "execution_count": 102,
   "metadata": {},
   "outputs": [
    {
     "data": {
      "text/plain": [
       "<matplotlib.collections.PathCollection at 0xa0b8750>"
      ]
     },
     "execution_count": 102,
     "metadata": {},
     "output_type": "execute_result"
    },
    {
     "data": {
      "image/png": "[encoded data removed]",
      "text/plain": [
       "<Figure size 432x288 with 1 Axes>"
      ]
     },
     "metadata": {
      "needs_background": "light"
     },
     "output_type": "display_data"
    }
   ],
   "source": []
  },
  {
   "cell_type": "code",
   "execution_count": 105,
   "metadata": {},
   "outputs": [
    {
     "data": {
      "text/plain": [
       "LinearRegression(copy_X=True, fit_intercept=True, n_jobs=None, normalize=False)"
      ]
     },
     "execution_count": 105,
     "metadata": {},
     "output_type": "execute_result"
    }
   ],
   "source": [
    "linear_regressor = LinearRegression()\n",
    "linear_regressor.fit(b.reshape(-1,1), b.reshape(-1,1))"
   ]
  },
  {
   "cell_type": "code",
   "execution_count": 106,
   "metadata": {},
   "outputs": [],
   "source": [
    "y1_pred = linear_regressor.predict(b.reshape(-1,1))"
   ]
  },
  {
   "cell_type": "code",
   "execution_count": 107,
   "metadata": {},
   "outputs": [
    {
     "data": {
      "text/plain": [
       "[<matplotlib.lines.Line2D at 0xa013cd0>]"
      ]
     },
     "execution_count": 107,
     "metadata": {},
     "output_type": "execute_result"
    },
    {
     "data": {
      "image/png": "[encoded data removed]",
      "text/plain": [
       "<Figure size 432x288 with 1 Axes>"
      ]
     },
     "metadata": {
      "needs_background": "light"
     },
     "output_type": "display_data"
    }
   ],
   "source": [
    "plt.scatter(b.reshape(-1,1) ,b.reshape(-1,1))\n",
    "plt.plot(b.reshape(-1,1) ,y1_pred,color='purple')"
   ]
  },
  {
   "cell_type": "code",
   "execution_count": 108,
   "metadata": {},
   "outputs": [],
   "source": [
    "c = np.array(df['pCut::CTRL_Position_controller::Lag_error'])"
   ]
  },
  {
   "cell_type": "code",
   "execution_count": 109,
   "metadata": {},
   "outputs": [
    {
     "data": {
      "text/plain": [
       "<matplotlib.collections.PathCollection at 0x9f2bcb0>"
      ]
     },
     "execution_count": 109,
     "metadata": {},
     "output_type": "execute_result"
    },
    {
     "data": {
      "image/png": "[encoded data removed]",
      "text/plain": [
       "<Figure size 432x288 with 1 Axes>"
      ]
     },
     "metadata": {
      "needs_background": "light"
     },
     "output_type": "display_data"
    }
   ],
   "source": []
  },
  {
   "cell_type": "code",
   "execution_count": 110,
   "metadata": {},
   "outputs": [
    {
     "data": {
      "text/plain": [
       "LinearRegression(copy_X=True, fit_intercept=True, n_jobs=None, normalize=False)"
      ]
     },
     "execution_count": 110,
     "metadata": {},
     "output_type": "execute_result"
    }
   ],
   "source": [
    "linear_regressor = LinearRegression()\n",
    "linear_regressor.fit(c.reshape(-1,1), b.reshape(-1,1))"
   ]
  },
  {
   "cell_type": "code",
   "execution_count": 111,
   "metadata": {},
   "outputs": [],
   "source": [
    "y = linear_regressor.predict(c.reshape(-1,1))"
   ]
  },
  {
   "cell_type": "code",
   "execution_count": 112,
   "metadata": {},
   "outputs": [
    {
     "data": {
      "text/plain": [
       "[<matplotlib.lines.Line2D at 0xa22fc30>]"
      ]
     },
     "execution_count": 112,
     "metadata": {},
     "output_type": "execute_result"
    },
    {
     "data": {
      "image/png": "[encoded data removed]",
      "text/plain": [
       "<Figure size 432x288 with 1 Axes>"
      ]
     },
     "metadata": {
      "needs_background": "light"
     },
     "output_type": "display_data"
    }
   ],
   "source": [
    "plt.scatter(c.reshape(-1,1) ,b.reshape(-1,1))\n",
    "plt.plot(c.reshape(-1,1) ,y,color='purple')"
   ]
  },
  {
   "cell_type": "code",
   "execution_count": 114,
   "metadata": {},
   "outputs": [],
   "source": [
    "d = np.array(df['pCut::CTRL_Position_controller::Actual_position'])"
   ]
  },
  {
   "cell_type": "code",
   "execution_count": 115,
   "metadata": {},
   "outputs": [
    {
     "data": {
      "text/plain": [
       "<matplotlib.collections.PathCollection at 0x9e8ddf0>"
      ]
     },
     "execution_count": 115,
     "metadata": {},
     "output_type": "execute_result"
    },
    {
     "data": {
      "image/png": "[encoded data removed]",
      "text/plain": [
       "<Figure size 432x288 with 1 Axes>"
      ]
     },
     "metadata": {
      "needs_background": "light"
     },
     "output_type": "display_data"
    }
   ],
   "source": []
  },
  {
   "cell_type": "code",
   "execution_count": 116,
   "metadata": {},
   "outputs": [
    {
     "data": {
      "text/plain": [
       "LinearRegression(copy_X=True, fit_intercept=True, n_jobs=None, normalize=False)"
      ]
     },
     "execution_count": 116,
     "metadata": {},
     "output_type": "execute_result"
    }
   ],
   "source": [
    "linear_regressor = LinearRegression()\n",
    "linear_regressor.fit(d.reshape(-1,1), b.reshape(-1,1))"
   ]
  },
  {
   "cell_type": "code",
   "execution_count": 117,
   "metadata": {},
   "outputs": [],
   "source": [
    "y1 = linear_regressor.predict(d.reshape(-1,1))"
   ]
  },
  {
   "cell_type": "code",
   "execution_count": 118,
   "metadata": {},
   "outputs": [
    {
     "data": {
      "text/plain": [
       "[<matplotlib.lines.Line2D at 0xa00a1f0>]"
      ]
     },
     "execution_count": 118,
     "metadata": {},
     "output_type": "execute_result"
    },
    {
     "data": {
      "image/png": "[encoded data removed]",
      "text/plain": [
       "<Figure size 432x288 with 1 Axes>"
      ]
     },
     "metadata": {
      "needs_background": "light"
     },
     "output_type": "display_data"
    }
   ],
   "source": [
    "plt.scatter(d.reshape(-1,1) ,b.reshape(-1,1))\n",
    "plt.plot(d.reshape(-1,1) ,y1,color='purple')"
   ]
  },
  {
   "cell_type": "code",
   "execution_count": 120,
   "metadata": {},
   "outputs": [],
   "source": [
    "e = np.array(df['pCut::CTRL_Position_controller::Actual_speed'])"
   ]
  },
  {
   "cell_type": "code",
   "execution_count": 121,
   "metadata": {},
   "outputs": [
    {
     "data": {
      "text/plain": [
       "<matplotlib.collections.PathCollection at 0xa0ed950>"
      ]
     },
     "execution_count": 121,
     "metadata": {},
     "output_type": "execute_result"
    },
    {
     "data": {
      "image/png": "[encoded data removed]",
      "text/plain": [
       "<Figure size 432x288 with 1 Axes>"
      ]
     },
     "metadata": {
      "needs_background": "light"
     },
     "output_type": "display_data"
    }
   ],
   "source": []
  },
  {
   "cell_type": "code",
   "execution_count": 122,
   "metadata": {},
   "outputs": [
    {
     "data": {
      "text/plain": [
       "LinearRegression(copy_X=True, fit_intercept=True, n_jobs=None, normalize=False)"
      ]
     },
     "execution_count": 122,
     "metadata": {},
     "output_type": "execute_result"
    }
   ],
   "source": [
    "linear_regressor = LinearRegression()\n",
    "linear_regressor.fit(e.reshape(-1,1), b.reshape(-1,1))"
   ]
  },
  {
   "cell_type": "code",
   "execution_count": 123,
   "metadata": {},
   "outputs": [],
   "source": [
    "yint = linear_regressor.predict(e.reshape(-1,1))"
   ]
  },
  {
   "cell_type": "code",
   "execution_count": 124,
   "metadata": {},
   "outputs": [
    {
     "data": {
      "text/plain": [
       "[<matplotlib.lines.Line2D at 0xa112630>]"
      ]
     },
     "execution_count": 124,
     "metadata": {},
     "output_type": "execute_result"
    },
    {
     "data": {
      "image/png": "[encoded data removed]",
      "text/plain": [
       "<Figure size 432x288 with 1 Axes>"
      ]
     },
     "metadata": {
      "needs_background": "light"
     },
     "output_type": "display_data"
    }
   ],
   "source": [
    "plt.scatter(e.reshape(-1,1) ,b.reshape(-1,1))\n",
    "plt.plot(e.reshape(-1,1) ,yint,color='purple')"
   ]
  },
  {
   "cell_type": "code",
   "execution_count": 125,
   "metadata": {},
   "outputs": [],
   "source": [
    "f = np.array(df['pSvolFilm::CTRL_Position_controller::Actual_position'])"
   ]
  },
  {
   "cell_type": "code",
   "execution_count": null,
   "metadata": {},
   "outputs": [],
   "source": []
  },
  {
   "cell_type": "code",
   "execution_count": 127,
   "metadata": {},
   "outputs": [
    {
     "data": {
      "text/plain": [
       "LinearRegression(copy_X=True, fit_intercept=True, n_jobs=None, normalize=False)"
      ]
     },
     "execution_count": 127,
     "metadata": {},
     "output_type": "execute_result"
    }
   ],
   "source": [
    "linear_regressor = LinearRegression()\n",
    "linear_regressor.fit(f.reshape(-1,1), b.reshape(-1,1))"
   ]
  },
  {
   "cell_type": "code",
   "execution_count": 131,
   "metadata": {},
   "outputs": [],
   "source": [
    "y2 = linear_regressor.predict(f.reshape(-1,1))"
   ]
  },
  {
   "cell_type": "code",
   "execution_count": 132,
   "metadata": {},
   "outputs": [
    {
     "data": {
      "text/plain": [
       "[<matplotlib.lines.Line2D at 0xa40e8f0>]"
      ]
     },
     "execution_count": 132,
     "metadata": {},
     "output_type": "execute_result"
    },
    {
     "data": {
      "image/png": "[encoded data removed]",
      "text/plain": [
       "<Figure size 432x288 with 1 Axes>"
      ]
     },
     "metadata": {
      "needs_background": "light"
     },
     "output_type": "display_data"
    }
   ],
   "source": [
    "plt.scatter(f.reshape(-1,1) ,b.reshape(-1,1))\n",
    "plt.plot(f.reshape(-1,1) ,y2,color='purple')"
   ]
  },
  {
   "cell_type": "code",
   "execution_count": 133,
   "metadata": {},
   "outputs": [],
   "source": [
    "g = np.array(df['pSvolFilm::CTRL_Position_controller::Actual_speed'])"
   ]
  },
  {
   "cell_type": "code",
   "execution_count": 134,
   "metadata": {},
   "outputs": [
    {
     "data": {
      "text/plain": [
       "<matplotlib.collections.PathCollection at 0xa44b6b0>"
      ]
     },
     "execution_count": 134,
     "metadata": {},
     "output_type": "execute_result"
    },
    {
     "data": {
      "image/png": "[encoded data removed]",
      "text/plain": [
       "<Figure size 432x288 with 1 Axes>"
      ]
     },
     "metadata": {
      "needs_background": "light"
     },
     "output_type": "display_data"
    }
   ],
   "source": [
    "plt.scatter(g,b)"
   ]
  },
  {
   "cell_type": "code",
   "execution_count": null,
   "metadata": {},
   "outputs": [],
   "source": [
    "linear_regressor = LinearRegression()\n",
    "linear_regressor.fit(g.reshape(-1,1), b.reshape(-1,1))"
   ]
  },
  {
   "cell_type": "code",
   "execution_count": 137,
   "metadata": {},
   "outputs": [],
   "source": [
    "y3 = linear_regressor.predict(g.reshape(-1,1))"
   ]
  },
  {
   "cell_type": "code",
   "execution_count": 138,
   "metadata": {},
   "outputs": [
    {
     "data": {
      "text/plain": [
       "[<matplotlib.lines.Line2D at 0xa49b870>]"
      ]
     },
     "execution_count": 138,
     "metadata": {},
     "output_type": "execute_result"
    },
    {
     "data": {
      "image/png": "[encoded data removed]",
      "text/plain": [
       "<Figure size 432x288 with 1 Axes>"
      ]
     },
     "metadata": {
      "needs_background": "light"
     },
     "output_type": "display_data"
    }
   ],
   "source": [
    "plt.scatter(g.reshape(-1,1) ,b.reshape(-1,1))\n",
    "plt.plot(g.reshape(-1,1) ,y3,color='purple')"
   ]
  },
  {
   "cell_type": "code",
   "execution_count": 139,
   "metadata": {},
   "outputs": [],
   "source": [
    "h = np.array(df['pSvolFilm::CTRL_Position_controller::Lag_error'])"
   ]
  },
  {
   "cell_type": "code",
   "execution_count": 140,
   "metadata": {},
   "outputs": [
    {
     "data": {
      "text/plain": [
       "<matplotlib.collections.PathCollection at 0xa506dd0>"
      ]
     },
     "execution_count": 140,
     "metadata": {},
     "output_type": "execute_result"
    },
    {
     "data": {
      "image/png": "[encoded data removed]",
      "text/plain": [
       "<Figure size 432x288 with 1 Axes>"
      ]
     },
     "metadata": {
      "needs_background": "light"
     },
     "output_type": "display_data"
    }
   ],
   "source": [
    "plt.scatter(h,b)"
   ]
  },
  {
   "cell_type": "code",
   "execution_count": null,
   "metadata": {},
   "outputs": [],
   "source": [
    "linear_regressor = LinearRegression()\n",
    "linear_regressor.fit(h.reshape(-1,1), b.reshape(-1,1))"
   ]
  },
  {
   "cell_type": "code",
   "execution_count": 142,
   "metadata": {},
   "outputs": [],
   "source": [
    "y4 = linear_regressor.predict(h.reshape(-1,1))"
   ]
  },
  {
   "cell_type": "code",
   "execution_count": 143,
   "metadata": {},
   "outputs": [
    {
     "data": {
      "text/plain": [
       "[<matplotlib.lines.Line2D at 0xb567790>]"
      ]
     },
     "execution_count": 143,
     "metadata": {},
     "output_type": "execute_result"
    },
    {
     "data": {
      "image/png": "[encoded data removed]",
      "text/plain": [
       "<Figure size 432x288 with 1 Axes>"
      ]
     },
     "metadata": {
      "needs_background": "light"
     },
     "output_type": "display_data"
    }
   ],
   "source": [
    "plt.scatter(h.reshape(-1,1) ,b.reshape(-1,1))\n",
    "plt.plot(h.reshape(-1,1) ,y4,color='purple')"
   ]
  },
  {
   "cell_type": "code",
   "execution_count": 144,
   "metadata": {},
   "outputs": [],
   "source": [
    "i = np.array(df['pSpintor::VAX_speed'])"
   ]
  },
  {
   "cell_type": "code",
   "execution_count": 145,
   "metadata": {},
   "outputs": [
    {
     "data": {
      "text/plain": [
       "<matplotlib.collections.PathCollection at 0xa470ab0>"
      ]
     },
     "execution_count": 145,
     "metadata": {},
     "output_type": "execute_result"
    },
    {
     "data": {
      "image/png": "[encoded data removed]",
      "text/plain": [
       "<Figure size 432x288 with 1 Axes>"
      ]
     },
     "metadata": {
      "needs_background": "light"
     },
     "output_type": "display_data"
    }
   ],
   "source": [
    "plt.scatter(i, b)"
   ]
  },
  {
   "cell_type": "code",
   "execution_count": 146,
   "metadata": {},
   "outputs": [
    {
     "data": {
      "text/plain": [
       "LinearRegression(copy_X=True, fit_intercept=True, n_jobs=None, normalize=False)"
      ]
     },
     "execution_count": 146,
     "metadata": {},
     "output_type": "execute_result"
    }
   ],
   "source": [
    "linear_regressor = LinearRegression()\n",
    "linear_regressor.fit(i.reshape(-1,1), b.reshape(-1,1))"
   ]
  },
  {
   "cell_type": "code",
   "execution_count": 147,
   "metadata": {},
   "outputs": [],
   "source": [
    "y5 = linear_regressor.predict(i.reshape(-1,1))"
   ]
  },
  {
   "cell_type": "code",
   "execution_count": 148,
   "metadata": {},
   "outputs": [
    {
     "data": {
      "text/plain": [
       "[<matplotlib.lines.Line2D at 0xa3dd410>]"
      ]
     },
     "execution_count": 148,
     "metadata": {},
     "output_type": "execute_result"
    },
    {
     "data": {
      "image/png": "[encoded data removed]",
      "text/plain": [
       "<Figure size 432x288 with 1 Axes>"
      ]
     },
     "metadata": {
      "needs_background": "light"
     },
     "output_type": "display_data"
    }
   ],
   "source": [
    "plt.scatter(i.reshape(-1,1) ,b.reshape(-1,1))\n",
    "plt.plot(i.reshape(-1,1) ,y5,color='purple')"
   ]
  },
  {
   "cell_type": "code",
   "execution_count": null,
   "metadata": {},
   "outputs": [],
   "source": []
  }
 ],
 "metadata": {
  "kernelspec": {
   "display_name": "Python 3",
   "language": "python",
   "name": "python3"
  },
  "language_info": {
   "codemirror_mode": {
    "name": "ipython",
    "version": 3
   },
   "file_extension": ".py",
   "mimetype": "text/x-python",
   "name": "python",
   "nbconvert_exporter": "python",
   "pygments_lexer": "ipython3",
   "version": "3.7.6"
  }
 },
 "nbformat": 4,
 "nbformat_minor": 4
}
